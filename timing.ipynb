{
 "cells": [
  {
   "cell_type": "code",
   "execution_count": 1,
   "metadata": {},
   "outputs": [],
   "source": [
    "import numpy as np\n",
    "import uproot\n",
    "import matplotlib.pyplot as plt\n",
    "import matplotlib.cm as cm\n",
    "from matplotlib.colors import Normalize\n",
    "import scipy.stats as ss\n",
    "from scipy.optimize import curve_fit\n",
    "from ntuple_lib import *\n",
    "beautify_plots(plt)\n",
    "from matplotlib.ticker import (MultipleLocator, FormatStrFormatter,\n",
    "                               AutoMinorLocator)"
   ]
  },
  {
   "cell_type": "code",
   "execution_count": null,
   "metadata": {},
   "outputs": [],
   "source": [
    "files = ['ntuples_condor/OutDir_{}/hist-Rel21sample.root'.format(i) for i in range(1, 10)]\n",
    "truth_vtx_z = np.array([], dtype='object')\n",
    "truth_vtx_z_HS = np.array([], dtype='object')\n",
    "\n",
    "reco_vtx_z = np.array([], dtype='object')\n",
    "reco_vtx_z_HS = np.array([], dtype='object')\n",
    "reco_vtx_sum_pt2 = np.array([], dtype='object')\n",
    "\n",
    "for file in files:\n",
    "    root_file = uproot.open(file)\n",
    "    for key in root_file.keys():\n",
    "        if key.startswith('EventTree'):\n",
    "            tree = root_file[key]\n",
    "            event_truth_vtx_z = tree['truthvertex_z'].array(library='np')\n",
    "            event_reco_vtx_z = tree['recovertex_z'].array(library='np')\n",
    "            \n",
    "            truth_vtx_z = np.concatenate((truth_vtx_z, event_truth_vtx_z))\n",
    "            reco_vtx_z = np.concatenate((reco_vtx_z, event_reco_vtx_z))\n",
    "            \n",
    "            reco_vtx_sum_pt2 = np.concatenate((reco_vtx_sum_pt2, tree['recovertex_sumPt2'].array(library='np')))\n",
    "            \n",
    "            truth_vtx_z_HS = np.concatenate((truth_vtx_z_HS, event_truth_vtx_z[0]))\n",
    "            reco_vtx_z_HS = np.concatenate((reco_vtx_z_HS, event_reco_vtx_z[0]))"
   ]
  }
 ],
 "metadata": {
  "kernelspec": {
   "display_name": "Python 3.8.10 64-bit",
   "language": "python",
   "name": "python3"
  },
  "language_info": {
   "codemirror_mode": {
    "name": "ipython",
    "version": 3
   },
   "file_extension": ".py",
   "mimetype": "text/x-python",
   "name": "python",
   "nbconvert_exporter": "python",
   "pygments_lexer": "ipython3",
   "version": "3.8.10"
  },
  "orig_nbformat": 4,
  "vscode": {
   "interpreter": {
    "hash": "916dbcbb3f70747c44a77c7bcd40155683ae19c65e1c03b4aa3499c5328201f1"
   }
  }
 },
 "nbformat": 4,
 "nbformat_minor": 2
}
