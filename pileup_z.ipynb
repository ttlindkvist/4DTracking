{
 "cells": [
  {
   "cell_type": "code",
   "execution_count": 1,
   "metadata": {},
   "outputs": [],
   "source": [
    "import numpy as np\n",
    "import uproot\n",
    "import matplotlib.pyplot as plt\n",
    "import matplotlib.cm as cm\n",
    "from matplotlib.colors import Normalize\n",
    "import scipy.stats as ss\n",
    "from scipy.optimize import curve_fit\n",
    "from scipy.stats import norm\n",
    "from ntuple_lib import *\n",
    "beautify_plots(plt)\n",
    "from matplotlib.ticker import (MultipleLocator, FormatStrFormatter,\n",
    "                               AutoMinorLocator)\n",
    "import matplotlib as mpl\n",
    "plt.rcParams[\"figure.figsize\"] = (12, 8)"
   ]
  },
  {
   "cell_type": "code",
   "execution_count": 2,
   "metadata": {},
   "outputs": [],
   "source": [
    "def computeLocalPUDensity(all_events_vertex_zs, delta_z):\n",
    "    localPUdensity = []\n",
    "    for vertex_zs in all_events_vertex_zs:\n",
    "        localPUdensity.append((np.sum(np.abs(vertex_zs[0]-vertex_zs[1:]) < delta_z))/(2*delta_z))\n",
    "    return localPUdensity\n",
    "def computeAvgPUDensity(all_events_vertex_zs, mu=200, sigma_z=50):\n",
    "    avgPUdensity = []\n",
    "    for vertex_zs in all_events_vertex_zs:\n",
    "        avgPUdensity.append(mu/(sigma_z*np.sqrt(2*np.pi)) * np.exp(-0.5*vertex_zs[0]**2/sigma_z**2))\n",
    "    return avgPUdensity"
   ]
  },
  {
   "cell_type": "code",
   "execution_count": 3,
   "metadata": {},
   "outputs": [],
   "source": [
    "files = ['ntuples_condor/OutDir_{}/hist-Rel21sample.root'.format(i) for i in range(1, 10)]\n",
    "track_t = np.array([], dtype='object')\n",
    "track_z0 = np.array([], dtype='object')\n",
    "track_t30 = np.array([], dtype='object')\n",
    "track_t90 = np.array([], dtype='object')\n",
    "track_t180 = np.array([], dtype='object')\n",
    "\n",
    "reco_vertex_track_idxs = np.array([], dtype='object')\n",
    "truth_vertex_track_idxs = np.array([], dtype='object')\n",
    "\n",
    "reco_vertex_sumPt2 = np.array([], dtype='object')\n",
    "\n",
    "reco_vertex_z = np.array([], dtype='object')\n",
    "truth_vertex_z = np.array([], dtype='object')\n",
    "truth_vertex_t = np.array([], dtype='object')\n",
    "\n",
    "for file in files:\n",
    "    root_file = uproot.open(file)\n",
    "    for key in root_file.keys():\n",
    "        if key.startswith('EventTree'):\n",
    "            tree = root_file[key]\n",
    "            track_t = np.concatenate((track_t, tree['track_t'].array(library='np')))\n",
    "            track_z0 = np.concatenate((track_z0, tree['track_z0'].array(library='np')))\n",
    "            track_t30 = np.concatenate((track_t30, tree['track_t30'].array(library='np')))\n",
    "            track_t90 = np.concatenate((track_t90, tree['track_t90'].array(library='np')))\n",
    "            track_t180 = np.concatenate((track_t180, tree['track_t180'].array(library='np')))\n",
    "            \n",
    "            reco_vertex_track_idxs = np.concatenate((reco_vertex_track_idxs, tree['recovertex_tracks_idx'].array(library='np')))\n",
    "            truth_vertex_track_idxs = np.concatenate((truth_vertex_track_idxs, tree['truthvertex_tracks_idx'].array(library='np')))\n",
    "            \n",
    "            reco_vertex_sumPt2 = np.concatenate((reco_vertex_sumPt2, tree['recovertex_sumPt2'].array(library='np')))\n",
    "            \n",
    "            reco_vertex_z = np.concatenate((reco_vertex_z, tree['recovertex_z'].array(library='np')))\n",
    "            truth_vertex_z = np.concatenate((truth_vertex_z, tree['truthvertex_z'].array(library='np')))\n",
    "            truth_vertex_t = np.concatenate((truth_vertex_t, tree['truthvertex_t'].array(library='np')))"
   ]
  },
  {
   "cell_type": "code",
   "execution_count": 4,
   "metadata": {},
   "outputs": [],
   "source": [
    "track_delta_z = np.array([])\n",
    "for event_idx in range(len(reco_vertex_z)):\n",
    "    track_delta_z = np.concatenate((track_delta_z, track_z0[event_idx][reco_vertex_track_idxs[event_idx][0]] - reco_vertex_z[event_idx][0]))"
   ]
  },
  {
   "cell_type": "code",
   "execution_count": 8,
   "metadata": {},
   "outputs": [
    {
     "data": {
      "text/plain": [
       "Text(0.5, 0, 'Reco vtx track z - reco vtx z [mm]')"
      ]
     },
     "execution_count": 8,
     "metadata": {},
     "output_type": "execute_result"
    },
    {
     "data": {
      "image/png": "[encoded data removed]",
      "text/plain": [
       "<Figure size 864x576 with 1 Axes>"
      ]
     },
     "metadata": {
      "needs_background": "light"
     },
     "output_type": "display_data"
    }
   ],
   "source": [
    "max_z = 0.6\n",
    "\n",
    "_ = plt.hist(track_delta_z[np.abs(track_delta_z) < max_z], bins = 100)\n",
    "\n",
    "plt.xlim(-max_z, max_z)\n",
    "plt.yscale('log')\n",
    "plt.xlabel('Reco vtx track z - reco vtx z [mm]')"
   ]
  }
 ],
 "metadata": {
  "kernelspec": {
   "display_name": "Python 3.8.10 64-bit",
   "language": "python",
   "name": "python3"
  },
  "language_info": {
   "codemirror_mode": {
    "name": "ipython",
    "version": 3
   },
   "file_extension": ".py",
   "mimetype": "text/x-python",
   "name": "python",
   "nbconvert_exporter": "python",
   "pygments_lexer": "ipython3",
   "version": "3.8.10"
  },
  "orig_nbformat": 4,
  "vscode": {
   "interpreter": {
    "hash": "916dbcbb3f70747c44a77c7bcd40155683ae19c65e1c03b4aa3499c5328201f1"
   }
  }
 },
 "nbformat": 4,
 "nbformat_minor": 2
}
