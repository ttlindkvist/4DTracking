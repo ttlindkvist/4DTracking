{
 "cells": [
  {
   "cell_type": "code",
   "execution_count": 2,
   "metadata": {},
   "outputs": [],
   "source": [
    "import numpy as np\n",
    "import uproot\n",
    "import matplotlib.pyplot as plt\n",
    "import matplotlib.cm as cm\n",
    "from matplotlib.colors import Normalize\n",
    "import scipy.stats as ss\n",
    "from scipy.optimize import curve_fit\n",
    "from ntuple_lib import *\n",
    "beautify_plots(plt)\n",
    "from matplotlib.ticker import (MultipleLocator, FormatStrFormatter,\n",
    "                               AutoMinorLocator)"
   ]
  },
  {
   "cell_type": "code",
   "execution_count": 7,
   "metadata": {},
   "outputs": [],
   "source": [
    "def t_stats_tracks_in_vtxs(vertex_tracks_idx, track_t, v_zs):\n",
    "    all_ts = []\n",
    "    avg_ts = []\n",
    "    rms_ts = []\n",
    "    stat_zs = []\n",
    "    \n",
    "    for i, (event, event_zs) in enumerate(zip(vertex_tracks_idx, v_zs)):\n",
    "        event_all_t = []\n",
    "        event_avg_t = []\n",
    "        event_rms_t = []\n",
    "        event_stat_zs = []\n",
    "        \n",
    "        for vertex_tracks, z in zip(event, event_zs):\n",
    "            if len(vertex_tracks) > 0:\n",
    "                ts = np.array(track_t[i][vertex_tracks])\n",
    "                ts = ts[np.logical_and(ts != -1e3, ts != -1e6)]\n",
    "                event_all_t.append(ts)\n",
    "                avg_t = np.mean(ts)\n",
    "                rms_t = np.sqrt(np.mean(ts**2))\n",
    "                event_avg_t.append(avg_t)\n",
    "                event_rms_t.append(rms_t)\n",
    "                event_stat_zs.append(z)\n",
    "        all_ts.append(np.array(event_all_t))\n",
    "        avg_ts.append(np.array(event_avg_t))\n",
    "        rms_ts.append(np.array(event_rms_t))\n",
    "        stat_zs.append(np.array(event_stat_zs))\n",
    "    return np.array(all_ts, dtype='object'), np.array(avg_ts, dtype='object'), np.array(rms_ts, dtype='object'), np.array(stat_zs, dtype='object')\n",
    "\n",
    "def t_stats_tracks_in_jets(vertex_tracks_idx, track_t):\n",
    "    avg_ts = []\n",
    "    rms_ts = []\n",
    "    \n",
    "    for i, event in enumerate(vertex_tracks_idx):\n",
    "        event_avg_t = []\n",
    "        event_rms_t = []\n",
    "        for vertex_tracks in event:\n",
    "            if len(vertex_tracks) > 0:\n",
    "                ts = np.array(track_t[i][vertex_tracks])\n",
    "                ts = ts[np.logical_and(ts != -1e3, ts != -1e6)]\n",
    "                avg_t = np.mean(ts)\n",
    "                rms_t = np.sqrt(np.mean(ts**2))\n",
    "                event_avg_t.append(avg_t)\n",
    "                event_rms_t.append(rms_t)\n",
    "        avg_ts.append(event_avg_t)\n",
    "        rms_ts.append(event_rms_t)\n",
    "    return np.array(avg_ts, dtype='object'), np.array(rms_ts, dtype='object')\n",
    "    \n",
    "def t_stats_tracks_in_vtxs_pTcut(track_t, vertex_tracks_idx, vertex_zs, vertex_sumPt2, sumPt2_min):\n",
    "    all_ts = []\n",
    "    avg_ts = []\n",
    "    rms_ts = []\n",
    "    stat_zs = []\n",
    "    \n",
    "    for i, (event_vertex_track_idx, event_vertex_zs, event_vertex_sumPt2) in enumerate(zip(vertex_tracks_idx, vertex_zs, vertex_sumPt2)):\n",
    "        event_all_ts =  []\n",
    "        event_avg_t =   []\n",
    "        event_rms_t =   []\n",
    "        event_stat_zs = []\n",
    "        \n",
    "        hard_enough_vertex_idx = event_vertex_sumPt2 > sumPt2_min\n",
    "        \n",
    "        for vertex_tracks, z in zip(event_vertex_track_idx[hard_enough_vertex_idx], event_vertex_zs[hard_enough_vertex_idx]):\n",
    "            if len(vertex_tracks) > 0:\n",
    "                ts = np.array(track_t[i][vertex_tracks])\n",
    "                ts = ts[np.logical_and(ts != -1e3, ts != -1e6)]\n",
    "                event_all_ts.append(ts)\n",
    "                \n",
    "                ##Ugly hack\n",
    "                event_all_ts.append(np.array([])) \n",
    "                \n",
    "                avg_t = np.mean(ts)\n",
    "                rms_t = np.sqrt(np.mean(ts**2))\n",
    "                event_avg_t.append(avg_t)\n",
    "                event_rms_t.append(rms_t)\n",
    "                event_stat_zs.append(z)\n",
    "        avg_ts.append (np.array(event_avg_t))\n",
    "        rms_ts.append (np.array(event_rms_t))\n",
    "        stat_zs.append(np.array(event_stat_zs))\n",
    "        all_ts.append (np.array(event_all_ts, dtype='object'))\n",
    "    return np.array(all_ts, dtype='object'), np.array(avg_ts, dtype='object'), np.array(rms_ts, dtype='object'), np.array(stat_zs, dtype='object')"
   ]
  },
  {
   "cell_type": "code",
   "execution_count": 8,
   "metadata": {},
   "outputs": [],
   "source": [
    "files = ['ntuples_condor/OutDir_{}/hist-Rel21sample.root'.format(i) for i in range(1, 2)]\n",
    "track_t = np.array([], dtype='object')\n",
    "track_t30 = np.array([], dtype='object')\n",
    "track_t90 = np.array([], dtype='object')\n",
    "track_t180 = np.array([], dtype='object')\n",
    "\n",
    "reco_vertex_track_idxs = np.array([], dtype='object')\n",
    "truth_vertex_track_idxs = np.array([], dtype='object')\n",
    "jet_track_idxs = np.array([], dtype='object')\n",
    "\n",
    "reco_vertex_sumPt2 = np.array([], dtype='object')\n",
    "\n",
    "reco_vertex_z = np.array([], dtype='object')\n",
    "truth_vertex_z = np.array([], dtype='object')\n",
    "\n",
    "for file in files:\n",
    "    root_file = uproot.open(file)\n",
    "    for key in root_file.keys():\n",
    "        if key.startswith('EventTree'):\n",
    "            tree = root_file[key]\n",
    "            track_t = np.concatenate((track_t, tree['track_t'].array(library='np')))\n",
    "            track_t30 = np.concatenate((track_t30, tree['track_t30'].array(library='np')))\n",
    "            track_t90 = np.concatenate((track_t90, tree['track_t90'].array(library='np')))\n",
    "            track_t180 = np.concatenate((track_t180, tree['track_t180'].array(library='np')))\n",
    "            \n",
    "            reco_vertex_track_idxs = np.concatenate((reco_vertex_track_idxs, tree['recovertex_tracks_idx'].array(library='np')))\n",
    "            truth_vertex_track_idxs = np.concatenate((truth_vertex_track_idxs, tree['truthvertex_tracks_idx'].array(library='np')))\n",
    "            jet_track_idxs = np.concatenate((jet_track_idxs, tree['jet_tracks_idx'].array(library='np')))\n",
    "            \n",
    "            reco_vertex_sumPt2 = np.concatenate((reco_vertex_sumPt2, tree['recovertex_sumPt2'].array(library='np')))\n",
    "            \n",
    "            reco_vertex_z = np.concatenate((reco_vertex_z, tree['recovertex_z'].array(library='np')))\n",
    "            truth_vertex_z = np.concatenate((truth_vertex_z, tree['truthvertex_z'].array(library='np')))"
   ]
  },
  {
   "cell_type": "code",
   "execution_count": 9,
   "metadata": {},
   "outputs": [
    {
     "name": "stderr",
     "output_type": "stream",
     "text": [
      "<ipython-input-7-6a6e98eee098>:23: VisibleDeprecationWarning: Creating an ndarray from ragged nested sequences (which is a list-or-tuple of lists-or-tuples-or ndarrays with different lengths or shapes) is deprecated. If you meant to do this, you must specify 'dtype=object' when creating the ndarray.\n",
      "  all_ts.append(np.array(event_all_t))\n",
      "/home/ttlindkvist/.local/lib/python3.8/site-packages/numpy/core/fromnumeric.py:3432: RuntimeWarning: Mean of empty slice.\n",
      "  return _methods._mean(a, axis=axis, dtype=dtype,\n",
      "/home/ttlindkvist/.local/lib/python3.8/site-packages/numpy/core/_methods.py:190: RuntimeWarning: invalid value encountered in divide\n",
      "  ret = ret.dtype.type(ret / rcount)\n"
     ]
    }
   ],
   "source": [
    "rev_all_ts, rev_avg_ts, rev_rms_ts, rev_stat_z = t_stats_tracks_in_vtxs(reco_vertex_track_idxs, track_t, reco_vertex_z)\n",
    "rev_all_ts30, rev_avg_ts30, rev_rms_ts30, rev_stat_z30 = t_stats_tracks_in_vtxs(reco_vertex_track_idxs, track_t30, reco_vertex_z)\n",
    "rev_all_ts90, rev_avg_ts90, rev_rms_ts90, rev_stat_z90 = t_stats_tracks_in_vtxs(reco_vertex_track_idxs, track_t90, reco_vertex_z)\n",
    "rev_all_ts180, rev_avg_ts180, rev_rms_ts180, rev_stat_z180 = t_stats_tracks_in_vtxs(reco_vertex_track_idxs, track_t180, reco_vertex_z)\n",
    "\n",
    "trv_all_ts, trv_avg_ts, trv_rms_ts, trv_stat_z = t_stats_tracks_in_vtxs(truth_vertex_track_idxs, track_t, truth_vertex_z)\n",
    "\n",
    "jet_avg_ts, jet_rms_ts = t_stats_tracks_in_jets(jet_track_idxs, track_t)\n",
    "\n",
    "trv_all_ts_flat = flatten_array(trv_all_ts)\n",
    "rev_all_ts_flat = flatten_array(rev_all_ts)\n",
    "rev_all_ts30_flat = flatten_array(rev_all_ts30)\n",
    "rev_all_ts90_flat = flatten_array(rev_all_ts90)\n",
    "rev_all_ts180_flat = flatten_array(rev_all_ts180)\n",
    "\n",
    "trv_all_ts_flat2 = flatten_array(trv_all_ts_flat)\n",
    "rev_all_ts_flat2 = flatten_array(rev_all_ts_flat)\n",
    "rev_all_ts30_flat2 = flatten_array(rev_all_ts30_flat)\n",
    "rev_all_ts90_flat2 = flatten_array(rev_all_ts90_flat)\n",
    "rev_all_ts180_flat2 = flatten_array(rev_all_ts180_flat)\n",
    "\n",
    "rev_avg_ts_flat = flatten_array(rev_avg_ts)\n",
    "trv_avg_ts_flat = flatten_array(trv_avg_ts)\n",
    "jet_avg_ts_flat = flatten_array(jet_avg_ts)\n",
    "\n",
    "rev_avg_ts30_flat = flatten_array(rev_avg_ts30)\n",
    "rev_avg_ts90_flat = flatten_array(rev_avg_ts90)\n",
    "rev_avg_ts180_flat = flatten_array(rev_avg_ts180)\n",
    "\n",
    "rev_rms_ts_flat = flatten_array(rev_rms_ts)\n",
    "trv_rms_ts_flat = flatten_array(trv_rms_ts)\n",
    "jet_rms_ts_flat = flatten_array(jet_rms_ts)\n",
    "\n",
    "rev_stat_z_flat = flatten_array(rev_stat_z)\n",
    "trv_stat_z_flat = flatten_array(trv_stat_z)"
   ]
  },
  {
   "cell_type": "code",
   "execution_count": 104,
   "metadata": {},
   "outputs": [],
   "source": [
    "## Recursive algorithm to find reco vertex t0, t1, t2, ...\n",
    "def find_t0(ts, sigma_cutoff = 3):\n",
    "    if len(ts) == 0:\n",
    "        return [], []\n",
    "    \n",
    "    ts_left = np.array([])\n",
    "    \n",
    "    tavg = np.mean(ts)\n",
    "    tstd = np.std(ts)\n",
    "    \n",
    "    outside = ts[np.abs(ts-tavg) > sigma_cutoff*tstd]\n",
    "    ts_left = np.concatenate((ts_left, outside))\n",
    "    while len(outside) > 0:\n",
    "        ts = ts[np.abs(ts-tavg) <= sigma_cutoff*tstd]\n",
    "        tavg = np.mean(ts)\n",
    "        tstd = np.std(ts)\n",
    "            \n",
    "        outside = ts[np.abs(ts-tavg) > sigma_cutoff*tstd]\n",
    "        ts_left = np.concatenate((ts_left, outside))\n",
    "    \n",
    "    # Call function again with remaining track times\n",
    "    next_layer_tavg, next_layer_nTracks = find_t0(ts_left, sigma_cutoff)\n",
    "    all_tavgs = np.concatenate(([tavg], next_layer_tavg))\n",
    "    all_nTracks = np.concatenate(([ts.shape[0]], next_layer_nTracks))\n",
    "    \n",
    "    all_tavgs = np.array([x for _, x in sorted(zip(all_nTracks, all_tavgs), reverse=True)])\n",
    "    all_nTracks = np.sort(all_nTracks)[::-1]\n",
    "    return all_tavgs, all_nTracks "
   ]
  },
  {
   "cell_type": "code",
   "execution_count": 119,
   "metadata": {},
   "outputs": [
    {
     "data": {
      "text/plain": [
       "(array([-0.1931045 , -0.1931045 , -0.1931045 , -0.1931045 , -0.1931045 ,\n",
       "        -0.1931045 , -0.1931045 , -0.1931045 , -0.1931045 , -0.1931045 ,\n",
       "        -0.1931045 , -0.1931045 , -0.1931045 , -0.1931045 , -0.1931045 ,\n",
       "        -0.1931045 , -0.1931045 , -0.1931045 , -0.1931045 , -0.1931045 ,\n",
       "        -0.1931045 , -0.1931045 , -0.1931045 , -0.1931045 , -0.1931045 ,\n",
       "        -0.1931045 , -0.1931045 , -0.1931045 , -0.1931045 , -0.19168945,\n",
       "        -0.19005495, -0.14122012, -0.14122012,  0.03287256,  0.05150782],\n",
       "       dtype=float32),\n",
       " -0.17656672)"
      ]
     },
     "execution_count": 119,
     "metadata": {},
     "output_type": "execute_result"
    }
   ],
   "source": [
    "n = 0\n",
    "np.sort(rev_all_ts_flat[n]), np.mean(rev_all_ts_flat[n])"
   ]
  },
  {
   "cell_type": "code",
   "execution_count": 124,
   "metadata": {},
   "outputs": [
    {
     "data": {
      "text/plain": [
       "(array([-0.19310455, -0.09663404]), array([29.,  6.]))"
      ]
     },
     "execution_count": 124,
     "metadata": {},
     "output_type": "execute_result"
    }
   ],
   "source": [
    "find_t0(rev_all_ts_flat[n], 3)"
   ]
  },
  {
   "cell_type": "code",
   "execution_count": 121,
   "metadata": {},
   "outputs": [
    {
     "data": {
      "text/plain": [
       "(array([-0.3365363 , -0.3182271 , -0.31459713, -0.30185366, -0.2732268 ,\n",
       "        -0.25953144, -0.25807196, -0.24770574, -0.2366397 , -0.23427403,\n",
       "        -0.22398356, -0.2044385 , -0.19708346, -0.18380447, -0.18145499,\n",
       "        -0.18141234, -0.18075049, -0.17057748, -0.1618195 , -0.15683371,\n",
       "        -0.13455835, -0.11835303, -0.11429226, -0.10359925, -0.10350035,\n",
       "        -0.09661975, -0.0716138 , -0.06850644, -0.06743068, -0.06401628,\n",
       "        -0.05061358, -0.04609036, -0.01457165, -0.00401834,  0.10506907],\n",
       "       dtype=float32),\n",
       " -0.15930106)"
      ]
     },
     "execution_count": 121,
     "metadata": {},
     "output_type": "execute_result"
    }
   ],
   "source": [
    "np.sort(rev_all_ts90_flat[n]), np.mean(rev_all_ts90_flat[n])"
   ]
  },
  {
   "cell_type": "code",
   "execution_count": 126,
   "metadata": {},
   "outputs": [
    {
     "data": {
      "text/plain": [
       "(array([-0.16707668,  0.10506907]), array([34.,  1.]))"
      ]
     },
     "execution_count": 126,
     "metadata": {},
     "output_type": "execute_result"
    }
   ],
   "source": [
    "find_t0(rev_all_ts90_flat[n], 2)"
   ]
  }
 ],
 "metadata": {
  "kernelspec": {
   "display_name": "Python 3.8.10 64-bit",
   "language": "python",
   "name": "python3"
  },
  "language_info": {
   "codemirror_mode": {
    "name": "ipython",
    "version": 3
   },
   "file_extension": ".py",
   "mimetype": "text/x-python",
   "name": "python",
   "nbconvert_exporter": "python",
   "pygments_lexer": "ipython3",
   "version": "3.8.10"
  },
  "orig_nbformat": 4,
  "vscode": {
   "interpreter": {
    "hash": "916dbcbb3f70747c44a77c7bcd40155683ae19c65e1c03b4aa3499c5328201f1"
   }
  }
 },
 "nbformat": 4,
 "nbformat_minor": 2
}
