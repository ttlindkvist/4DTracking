{
 "cells": [
  {
   "cell_type": "code",
   "execution_count": 1,
   "metadata": {},
   "outputs": [],
   "source": [
    "import numpy as np\n",
    "import uproot\n",
    "import matplotlib.pyplot as plt\n",
    "import matplotlib.cm as cm\n",
    "from matplotlib.colors import Normalize\n",
    "import scipy.stats as ss\n",
    "from scipy.optimize import curve_fit\n",
    "plt.rc(\"font\", family=[\"Helvetica\", \"Arial\"]) # skifter skrifttype\n",
    "plt.rc(\"axes\", labelsize=22)   # skriftstørrelse af `xlabel` og `ylabel`\n",
    "plt.rc(\"xtick\", labelsize=22, top=True, direction=\"out\")\n",
    "plt.rc(\"ytick\", labelsize=22, right=True, direction=\"out\")\n",
    "plt.rc(\"axes\", titlesize=22)\n",
    "plt.rc(\"legend\", fontsize=18)\n",
    "plt.rcParams[\"figure.figsize\"] = (8, 6)"
   ]
  },
  {
   "cell_type": "code",
   "execution_count": 2,
   "metadata": {},
   "outputs": [],
   "source": [
    "def flatten_array(arr):\n",
    "    return np.concatenate(arr, axis=0)\n",
    "def flatten_array_old(arr):\n",
    "    flattened = []\n",
    "    for sub in arr[:]:\n",
    "        flattened = np.concatenate((flattened, sub))\n",
    "    return flattened\n",
    "def reject_outliers(data, x, m=5):\n",
    "    idxs = abs(data - np.mean(data)) < m * np.std(data)\n",
    "    return data[idxs], x[idxs]\n",
    "def gaussian(x, amplitude, mean, standard_deviation):\n",
    "    return amplitude * np.exp( - (x - mean)**2 / (2*standard_deviation ** 2))\n",
    "def num_of_tracks_in_vtxs(vertex_tracks_idx):\n",
    "    res = []\n",
    "    for event in vertex_tracks_idx:\n",
    "        event_ns = []\n",
    "        for vertex_tracks in event:\n",
    "            n = len(vertex_tracks)\n",
    "            event_ns.append(n)\n",
    "        res.append(event_ns)\n",
    "    return np.array(res, dtype='object')\n",
    "\n",
    "def getFirstElem(event_params):\n",
    "    first_elems = []\n",
    "    for event_param in event_params:\n",
    "        first_elems.append(event_param[0])\n",
    "    return np.array(first_elems)\n",
    "        "
   ]
  },
  {
   "cell_type": "code",
   "execution_count": 3,
   "metadata": {},
   "outputs": [],
   "source": [
    "files = ['ntuples_condor/OutDir_{}/hist-Rel21sample.root'.format(i) for i in range(1, 10)]\n",
    "reco_v_sum_pt2 = np.array([], dtype='object')\n",
    "\n",
    "for file in files:\n",
    "    root_file = uproot.open(file)\n",
    "    for key in root_file.keys():\n",
    "        if key.startswith('EventTree'):\n",
    "            tree = root_file[key]\n",
    "            reco_v_sum_pt2 = np.concatenate((reco_v_sum_pt2, tree['recovertex_sumPt2'].array(library='np')))"
   ]
  },
  {
   "cell_type": "code",
   "execution_count": 11,
   "metadata": {},
   "outputs": [],
   "source": [
    "fig, ax = plt.subplots(1, 1)\n",
    "fig.set_size_inches(12, 8)\n",
    "\n",
    "sum_pt2_range = 5e4\n",
    "\n",
    "idxs = getFirstElem(reco_v_sum_pt2)   < sum_pt2_range\n",
    "idxs2 = flatten_array(reco_v_sum_pt2) < sum_pt2_range\n",
    "_ = ax.hist(np.sqrt(flatten_array(reco_v_sum_pt2)[idxs2]), bins=100, label='All reco vtxs')\n",
    "_ = ax.hist(np.sqrt(getFirstElem(reco_v_sum_pt2)[idxs]), bins=100, label='Reco vtx with largest sum pT square in event')\n",
    "ax.vlines(15, 1e-0, 1e7, 'k', lw=2, zorder=10, label='15 GeV')\n",
    "\n",
    "ax.set_ylim(1, 2e5)\n",
    "ax.set_xlim(0, sum_pt2_range**0.5)\n",
    "ax.set_yscale('log')\n",
    "ax.set_xlabel('Reco $\\\\sqrt{\\\\sum p_T^2}$')\n",
    "ax.legend(frameon=False)\n",
    "fig.tight_layout()"
   ]
  }
 ],
 "metadata": {
  "kernelspec": {
   "display_name": "Python 3.8.10 64-bit",
   "language": "python",
   "name": "python3"
  },
  "language_info": {
   "codemirror_mode": {
    "name": "ipython",
    "version": 3
   },
   "file_extension": ".py",
   "mimetype": "text/x-python",
   "name": "python",
   "nbconvert_exporter": "python",
   "pygments_lexer": "ipython3",
   "version": "3.8.10"
  },
  "orig_nbformat": 4,
  "vscode": {
   "interpreter": {
    "hash": "916dbcbb3f70747c44a77c7bcd40155683ae19c65e1c03b4aa3499c5328201f1"
   }
  }
 },
 "nbformat": 4,
 "nbformat_minor": 2
}
